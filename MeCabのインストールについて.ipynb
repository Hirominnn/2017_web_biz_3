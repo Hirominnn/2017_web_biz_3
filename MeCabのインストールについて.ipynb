{
 "cells": [
  {
   "cell_type": "markdown",
   "metadata": {},
   "source": [
    "# MeCabのローカル環境での導入について"
   ]
  },
  {
   "cell_type": "markdown",
   "metadata": {},
   "source": [
    "+ MeCabはオープンソースの形態素解析エンジンで、現GoogleソフトウェアエンジニアでGoogle 日本語入力開発者の一人である工藤拓によって開発されている。\n",
    "+ MeCabで利用できる辞書はいくつかあるが、今回は最も優秀とされているipadic-neologdの設定方法について説明する。\n",
    "+ 環境としてはMacとpython3を想定している。"
   ]
  },
  {
   "cell_type": "markdown",
   "metadata": {},
   "source": [
    "## MeCab(python)の導入\n",
    "+ ターミナルで以下を実行する。\n",
    "\n",
    "```\n",
    "$ git clone --depth 1 https://github.com/taku910/mecab.git\n",
    "$ cd mecab/mecab\n",
    "$ make\n",
    "$ make check\n",
    "$ sudo make install\n",
    "```\n",
    "\n",
    "+ インストールが終わると以下のファイルが配置される。\n",
    "\n",
    "```\n",
    "usr/local/etc/mecabrc (後で使う)\n",
    "usr/local/bin/mecab\n",
    "usr/local/bin/mecab-config\n",
    "```\n",
    "\n",
    "+ python3で動かすためにパッケージをpipでインストールする。\n",
    "\n",
    "```\n",
    "$ pip install mecab-python3\n",
    "```"
   ]
  },
  {
   "cell_type": "markdown",
   "metadata": {},
   "source": [
    "## ipadic-neologdの導入\n",
    "+ ターミナルで以下を実行する。\n",
    "\n",
    "```\n",
    "$ git clone --depth 1 https://github.com/neologd/mecab-ipadic-neologd.git\n",
    "$ cd mecab-ipadic-neologd\n",
    "```\n",
    "\n",
    "+ 以下のコマンドを実行して結果を確認する画面で「yes」と入力すると、sudo 権限で最新版がインストール(初回実行時以降は更新)される。容量に余裕が無い場合は, 下側を実行する。(一部の辞書がインストールされない)\n",
    "\n",
    "```\n",
    "$ ./bin/install-mecab-ipadic-neologd -n -a\n",
    "$ ./bin/install-mecab-ipadic-neologd -n\n",
    "```\n",
    "\n",
    "+ インストールされた辞書のディレクトリは以下のコードで確認する.\n",
    "\n",
    "```\n",
    "$ echo `mecab-config --dicdir`\"/mecab-ipadic-neologd\"\n",
    "```\n",
    "\n",
    "+ MeCabのデフォルトの辞書をipadic-neologdに変える場合は、mecabインストールパス配下の etc/mecabrc を編集して dicdir に mecab-ipadic-neologd のパスを指定する。(推奨)\n",
    "\n",
    "```\n",
    "ディレクトリは例えば, usr/local/etc/mecabrc\n",
    "```"
   ]
  },
  {
   "cell_type": "markdown",
   "metadata": {},
   "source": [
    "### MeCabの実行例\n",
    "\n",
    "ちゃんと固有名詞が認識されていれば成功"
   ]
  },
  {
   "cell_type": "code",
   "execution_count": 16,
   "metadata": {
    "collapsed": false
   },
   "outputs": [
    {
     "name": "stdout",
     "output_type": "stream",
     "text": [
      "BOS/EOS,*,*,*,*,*,*,*,*\n",
      "名詞,固有名詞,一般,*,*,*,10日,トオカ,トオカ\n",
      "名詞,サ変接続,*,*,*,*,放送,ホウソウ,ホーソー\n",
      "助詞,連体化,*,*,*,*,の,ノ,ノ\n",
      "記号,括弧開,*,*,*,*,「,「,「\n",
      "名詞,固有名詞,一般,*,*,*,中居正広のミになる図書館,ナカイマサヒロノミニナルトショカン,ナカイマサヒロノミニナルトショカン\n",
      "記号,括弧閉,*,*,*,*,」,」,」\n",
      "記号,括弧開,*,*,*,*,（,（,（\n",
      "名詞,固有名詞,組織,*,*,*,テレビ朝日,テレビアサヒ,テレビアサヒ\n",
      "名詞,接尾,一般,*,*,*,系,ケイ,ケイ\n",
      "記号,括弧閉,*,*,*,*,）,）,）\n",
      "助詞,格助詞,一般,*,*,*,で,デ,デ\n",
      "記号,読点,*,*,*,*,、,、,、\n",
      "名詞,固有名詞,一般,*,*,*,SMAP,スマップ,スマップ\n",
      "助詞,連体化,*,*,*,*,の,ノ,ノ\n",
      "名詞,固有名詞,人名,一般,*,*,中居正広,ナカイマサヒロ,ナカイマサヒロ\n",
      "助詞,格助詞,一般,*,*,*,が,ガ,ガ\n",
      "記号,読点,*,*,*,*,、,、,、\n",
      "名詞,固有名詞,人名,一般,*,*,篠原信一,シノハラシンイチ,シノハラシンイチ\n",
      "助詞,連体化,*,*,*,*,の,ノ,ノ\n",
      "名詞,副詞可能,*,*,*,*,過去,カコ,カコ\n",
      "助詞,連体化,*,*,*,*,の,ノ,ノ\n",
      "名詞,サ変接続,*,*,*,*,勘違い,カンチガイ,カンチガイ\n",
      "助詞,格助詞,一般,*,*,*,を,ヲ,ヲ\n",
      "動詞,自立,*,*,五段・サ行,基本形,明かす,アカス,アカス\n",
      "名詞,一般,*,*,*,*,一幕,ヒトマク,ヒトマク\n",
      "助詞,格助詞,一般,*,*,*,が,ガ,ガ\n",
      "動詞,自立,*,*,五段・ラ行,連用タ接続,ある,アッ,アッ\n",
      "助動詞,*,*,*,特殊・タ,基本形,た,タ,タ\n",
      "記号,句点,*,*,*,*,。,。,。\n",
      "BOS/EOS,*,*,*,*,*,*,*,*\n"
     ]
    }
   ],
   "source": [
    "import MeCab\n",
    "\n",
    "tagger = MeCab.Tagger('-Ochasen')\n",
    "tagger.parse('')\n",
    "node = tagger.parseToNode('10日放送の「中居正広のミになる図書館」（テレビ朝日系）で、SMAPの中居正広が、篠原信一の過去の勘違いを明かす一幕があった。')\n",
    "while node:\n",
    "  print(node.feature)\n",
    "  node = node.next"
   ]
  },
  {
   "cell_type": "code",
   "execution_count": null,
   "metadata": {
    "collapsed": true
   },
   "outputs": [],
   "source": []
  }
 ],
 "metadata": {
  "kernelspec": {
   "display_name": "Python 3",
   "language": "python",
   "name": "python3"
  },
  "language_info": {
   "codemirror_mode": {
    "name": "ipython",
    "version": 3
   },
   "file_extension": ".py",
   "mimetype": "text/x-python",
   "name": "python",
   "nbconvert_exporter": "python",
   "pygments_lexer": "ipython3",
   "version": "3.4.3"
  }
 },
 "nbformat": 4,
 "nbformat_minor": 0
}
