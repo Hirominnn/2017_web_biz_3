{
 "cells": [
  {
   "cell_type": "code",
   "execution_count": 2,
   "metadata": {
    "collapsed": false
   },
   "outputs": [],
   "source": [
    "import requests\n",
    "from bs4 import BeautifulSoup\n",
    "import re\n",
    "\n",
    "from config import gaishi, minshuu, vorkers\n",
    "from selenium import webdriver\n",
    "import os\n",
    "import matplotlib.pyplot as plt\n",
    "from PIL import Image\n",
    "import numpy as np\n",
    "\n",
    "import json\n",
    "from pprint import pprint\n",
    "\n",
    "%matplotlib inline"
   ]
  },
  {
   "cell_type": "code",
   "execution_count": 1,
   "metadata": {
    "collapsed": true
   },
   "outputs": [],
   "source": [
    "company_dics = {\n",
    "    \"三菱商事\": {\n",
    "        \"name\": \"mitsubishi_shouji\"\n",
    "        \"gaishi\": \"37\",\n",
    "        \"vorkers\": \"a0910000000Frj0\"\n",
    "    },\n",
    "}"
   ]
  },
  {
   "cell_type": "code",
   "execution_count": null,
   "metadata": {
    "collapsed": true
   },
   "outputs": [],
   "source": [
    "SR_SAVE_FORMAT = \"./data/selection_reports/%s.json\"\n",
    "RV_SAVE_FORMAT = \"./data/reviews/%s.json\"\n",
    "\n",
    "# 外資就活ドットコム\n",
    "gaishi_driver = GaishiDriver()\n",
    "SR_SAVE_PATH = SR_SAVE_FORMAT % name\n",
    "for company, company_dic in company_dics.items():\n",
    "    print(company)\n",
    "    name = company_dic[\"name\"]\n",
    "    gaishi_driver.access_sr_list_page(company_number=company_dic[\"gaishi\"])\n",
    "    sr_urls = gaishi_driver.get_sr_urls()\n",
    "    srs = gaishi_driver.get_each_sr(sr_urls)\n",
    "    with open(SR_SAVE_PATH, \"r\") as f:\n",
    "        json.dump(srs, f)\n",
    "\n",
    "# Vorkers\n",
    "vorkers_driver = VorkersDriver()\n",
    "RV_SAVE_PATH = RV_SAVE_FORMAT % name\n",
    "for company, company_dic in company_dics.items():\n",
    "    print(company)\n",
    "    name = company_dic[\"name\"]\n",
    "    vorkers_driver.access_top_page(company_id=company_dic[\"vorkers\"])\n",
    "    vorkers_driver.get_score()\n",
    "    vorkers_driver.access_review_page(company_id=company_dic[\"vorkers\"])\n",
    "    dic = vorkers_driver.get_reviews()\n",
    "    with open(RV_SAVE_PATH, \"r\") as f:\n",
    "        json.dump(dic, f)"
   ]
  },
  {
   "cell_type": "markdown",
   "metadata": {},
   "source": [
    "## 外資就活ドットコム"
   ]
  },
  {
   "cell_type": "code",
   "execution_count": null,
   "metadata": {
    "collapsed": true
   },
   "outputs": [],
   "source": [
    "sr_list_page = \"https://gaishishukatsu.com/company/%s/study\"\n",
    "\n",
    "class GaishiDriver(object):\n",
    "    \n",
    "    def __init__(self,):\n",
    "        self.driver = webdriver.PhantomJS(service_log_path=os.path.devnull)\n",
    "        self.es_list_page = None\n",
    "        self.login()\n",
    "        \n",
    "    def login(self,):\n",
    "        self.driver.get(\"https://gaishishukatsu.com/login\")\n",
    "        self.driver.implicitly_wait(1)\n",
    "        username_field = self.driver.find_element_by_name(\"data[GsUser][email]\")\n",
    "        password_field = self.driver.find_element_by_name(\"data[GsUser][password]\")\n",
    "        username_field.send_keys(gaishi[\"email\"])\n",
    "        self.driver.implicitly_wait(1)\n",
    "        password_field.send_keys(gaishi[\"password\"])\n",
    "        self.driver.implicitly_wait(1)\n",
    "        self.driver.find_element_by_css_selector(\"#GsUserLoginForm > div._mt-md.content-center-button > p:nth-child(1) > button\").click()\n",
    "        \n",
    "    def access_sr_list_page(self, company_number):\n",
    "        self.driver.implicitly_wait(1)\n",
    "        self.driver.get(sr_list_page % company_number)\n",
    "        source = self.driver.page_source.encode('utf-8')\n",
    "        self.sr_list_page = BeautifulSoup(source, \"lxml\")\n",
    "        \n",
    "    def get_sr_urls(self,):\n",
    "        sr_urls = []\n",
    "        es_list = self.sr_list_page.find_all(\"a\", class_=\"_panel-content report-list\")\n",
    "        for es in es_list:\n",
    "            url = es[\"ng-href\"]\n",
    "            if str(url).startswith(\"https://gaishishukatsu.com/selection_reports/\"):\n",
    "                sr_urls.append(url)\n",
    "        return sr_urls\n",
    "    \n",
    "    def get_each_sr(self, sr_urls):\n",
    "        srs = {}\n",
    "        for sr_url in sr_urls:\n",
    "            self.driver.implicitly_wait(1)\n",
    "            self.driver.get(sr_url)\n",
    "            source = self.driver.page_source.encode('utf-8')\n",
    "            sr_page = BeautifulSoup(source, \"lxml\")\n",
    "            try:\n",
    "                importance = sr_page.find(\"td\", class_=\"impression_importance\").text\n",
    "            except AttributeError:\n",
    "                importance = \"\"\n",
    "            try:\n",
    "                advice = sr_page.find(\"td\", class_=\"impression_advice\").text\n",
    "            except:\n",
    "                advice = \"\"\n",
    "            srs[sr_url] = {\"importance\": importance, \"advice\": advice}        \n",
    "        return srs\n"
   ]
  },
  {
   "cell_type": "markdown",
   "metadata": {},
   "source": [
    "## VORKERS"
   ]
  },
  {
   "cell_type": "code",
   "execution_count": null,
   "metadata": {
    "collapsed": true
   },
   "outputs": [],
   "source": [
    "top_page = \"https://www.vorkers.com/company.php?m_id=%s\"\n",
    "review_page = \"https://www.vorkers.com/company_answer.php?m_id=%s&q_no=1\"\n",
    "\n",
    "class VorkersDriver(object):\n",
    "    \n",
    "    def __init__(self,):\n",
    "        self.driver = webdriver.PhantomJS(service_log_path=os.path.devnull)\n",
    "        self.top_page = None\n",
    "        self.review_page = None\n",
    "        self.dic = {}\n",
    "        self.login()\n",
    "        \n",
    "    def login(self,):\n",
    "        self.driver.get(\"https://www.vorkers.com/login.php\")\n",
    "        self.driver.implicitly_wait(1)\n",
    "        username_field = self.driver.find_element_by_name(\"_username\")\n",
    "        password_field = self.driver.find_element_by_name(\"_password\")\n",
    "        username_field.send_keys(vorkers[\"email\"])\n",
    "        self.driver.implicitly_wait(1)\n",
    "        password_field.send_keys(vorkers[\"password\"])\n",
    "        self.driver.implicitly_wait(1)\n",
    "        self.driver.find_element_by_css_selector(\"#log_in\").click()\n",
    "        \n",
    "    def access_top_page(self, company_id):\n",
    "        self.driver.implicitly_wait(1)\n",
    "        self.driver.get(top_page % company_id)\n",
    "        source = self.driver.page_source.encode('utf-8')\n",
    "        self.top_page = BeautifulSoup(source, \"lxml\")\n",
    "\n",
    "    def get_score(self,):\n",
    "        # レーダーチャートのスコア\n",
    "        radar_elems = self.top_page.find(\"ul\", class_=\"scoreList-8\").find_all(\"li\")\n",
    "        self.dic[\"radar\"] = {}\n",
    "        radar_dic = self.dic[\"radar\"]\n",
    "        for radar_elem in radar_elems:\n",
    "                key = radar_elem.find(\"dt\").text\n",
    "                score = radar_elem.find(\"dd\").text\n",
    "                radar_dic[key] = score\n",
    "        # 総合評価\n",
    "        self.dic[\"総合評価\"] = self.top_page.find(\"span\", property=\"v:average\").text\n",
    "        # 残業時間(月間)と有給休暇消化率\n",
    "        zangyou, yuukyuu = self.top_page.find_all(\"dd\", class_=\"d-ib t-r w-85\")\n",
    "        self.dic[\"残業時間(月間)\"] = zangyou.text\n",
    "        self.dic[\"有給休暇消化率\"] = yuukyuu.text\n",
    "        \n",
    "    def access_review_page(self, company_id):\n",
    "        self.driver.implicitly_wait(1)\n",
    "        self.driver.get(review_page % company_id)\n",
    "        source = self.driver.page_source.encode('utf-8')\n",
    "        self.review_page = BeautifulSoup(source, \"lxml\")\n",
    "\n",
    "    def get_reviews(self,):\n",
    "        reviews = self.review_page.find_all(\"dd\", class_=\"article_answer\")\n",
    "        review_arr = [review.text.strip(\"\\n\").strip() for review in reviews]\n",
    "        next_pages = self.review_page.find_all(\"a\", class_=\"paging_link-item\")\n",
    "        if len(next_pages):\n",
    "            for next_page in next_pages:\n",
    "                self.driver.implicitly_wait(3)\n",
    "                url = next_page.get(\"href\")\n",
    "                self.driver.get(url)\n",
    "                source = self.driver.page_source.encode('utf-8')\n",
    "                self.review_page = BeautifulSoup(source, \"lxml\")\n",
    "                reviews = self.review_page.find_all(\"dd\", class_=\"article_answer\")\n",
    "                review_arr += [review.text.strip(\"\\n\").strip() for review in reviews]\n",
    "        self.dic[\"reviews\"] = review_arr\n",
    "        return self.dic"
   ]
  }
 ],
 "metadata": {
  "anaconda-cloud": {},
  "kernelspec": {
   "display_name": "Python [conda env:py35]",
   "language": "python",
   "name": "conda-env-py35-py"
  },
  "language_info": {
   "codemirror_mode": {
    "name": "ipython",
    "version": 3
   },
   "file_extension": ".py",
   "mimetype": "text/x-python",
   "name": "python",
   "nbconvert_exporter": "python",
   "pygments_lexer": "ipython3",
   "version": "3.5.1"
  }
 },
 "nbformat": 4,
 "nbformat_minor": 1
}
